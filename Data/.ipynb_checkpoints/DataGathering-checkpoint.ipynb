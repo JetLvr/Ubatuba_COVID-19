{
 "cells": [
  {
   "cell_type": "markdown",
   "id": "c1ca1bdd",
   "metadata": {},
   "source": [
    "# Data Gathering  \n",
    "&nbsp; The city hall of Ubatuba, on the northern coast of the state of São Paulo, provides daily bulletins containing information regarding the situation of the COVID-19 pandemic. These documents are in PDF file format and can be downloaded directly through  \n",
    "the website at: [https://www.ubatuba.sp.gov.br/covid-19/](https://www.ubatuba.sp.gov.br/covid-19/)  \n",
    "  \n",
    "&nbsp;Downloading a large number of files can take a long time, so I developed this script to help me accomplish this task automatically."
   ]
  },
  {
   "cell_type": "code",
   "execution_count": 1,
   "id": "27084336",
   "metadata": {},
   "outputs": [],
   "source": [
    "from selenium import webdriver\n",
    "from selenium.webdriver.common.by import By\n",
    "from selenium.webdriver.chrome.options import Options\n",
    "from selenium.webdriver.chrome.service import Service\n",
    "from selenium.webdriver.support.ui import WebDriverWait\n",
    "from selenium.webdriver.support import expected_conditions as EC\n",
    "import pandas as pd\n",
    "import time"
   ]
  },
  {
   "cell_type": "markdown",
   "id": "9cf7e87f",
   "metadata": {},
   "source": [
    "&nbsp;The Selenium framework provides ways to automate online tasks by allowing websites opened in a browser to be accessed via script.\n",
    "&nbsp;So that the files are downloaded when clicked, instead of being opened in a new tab, it is possible to pass guidelines, through a dictionary, to \"Options\", during the \"web driver\" object's creation."
   ]
  },
  {
   "cell_type": "code",
   "execution_count": 2,
   "id": "2221d732",
   "metadata": {},
   "outputs": [],
   "source": [
    "#Set up the web driver\n",
    "\n",
    "options = Options()\n",
    "options.add_argument(\"--start-maximized\")\n",
    "options.headless = False\n",
    "profile = {\n",
    "\"download.default_directory\": \"./Pdf_Files\", #Change default directory for downloads\n",
    "\"download.prompt_for_download\": False, #To auto download the file\n",
    "\"download.directory_upgrade\": True,\n",
    "\"plugins.always_open_pdf_externally\": True, #It will not show PDF directly in chrome\n",
    "'profile.default_content_setting_values.automatic_downloads': 1\n",
    "}\n",
    "options.add_experimental_option(\"prefs\", profile)\n",
    "path = \"./SeleniumWebDriver/chromedriver\"\n",
    "b = webdriver.Chrome(executable_path=path, options=options)\n",
    "wait = WebDriverWait(b, 10, poll_frequency=1)\n",
    "time.sleep(2)"
   ]
  },
  {
   "cell_type": "code",
   "execution_count": 3,
   "id": "1f5502f1",
   "metadata": {},
   "outputs": [],
   "source": [
    "#Access the web page and wait for it to load\n",
    "\n",
    "b.get('https://www.ubatuba.sp.gov.br/covid-19/')\n",
    "time.sleep(3)"
   ]
  },
  {
   "cell_type": "code",
   "execution_count": 4,
   "id": "8011f4ef",
   "metadata": {},
   "outputs": [
    {
     "name": "stdout",
     "output_type": "stream",
     "text": [
      "Message: no such element: Unable to locate element: {\"method\":\"xpath\",\"selector\":\"//*[@class=\"paginate_button next\"]\"}\n",
      "  (Session info: chrome=96.0.4664.45)\n",
      "Stacktrace:\n",
      "#0 0x564af34eaac3 <unknown>\n",
      "#1 0x564af2fc48f8 <unknown>\n",
      "#2 0x564af2ffa6fa <unknown>\n",
      "#3 0x564af302d004 <unknown>\n",
      "#4 0x564af3017b2d <unknown>\n",
      "#5 0x564af302aca1 <unknown>\n",
      "#6 0x564af30179f3 <unknown>\n",
      "#7 0x564af2fede14 <unknown>\n",
      "#8 0x564af2feee05 <unknown>\n",
      "#9 0x564af351c25e <unknown>\n",
      "#10 0x564af3531afa <unknown>\n",
      "#11 0x564af351d1b5 <unknown>\n",
      "#12 0x564af35334c8 <unknown>\n",
      "#13 0x564af351195b <unknown>\n",
      "#14 0x564af354e298 <unknown>\n",
      "#15 0x564af354e418 <unknown>\n",
      "#16 0x564af3569bed <unknown>\n",
      "#17 0x7f2c281b3609 <unknown>\n",
      "\n"
     ]
    }
   ],
   "source": [
    "#Click at all files buttons loaded on the page, then click the next page button. \n",
    "#Raise an exception when it's over.\n",
    "\n",
    "while True:\n",
    "    try:\n",
    "        #Files buttons are inside \"table > tbody > tr\" element tags.  \n",
    "        \n",
    "        table = wait.until(EC.visibility_of_element_located((By.TAG_NAME, 'table')))\n",
    "        tbody = table.find_element(By.TAG_NAME, 'tbody')\n",
    "        for row in tbody.find_elements(By.TAG_NAME, 'tr'):\n",
    "            bttn = row.find_element(By.TAG_NAME, 'a')\n",
    "            b.execute_script(\"arguments[0].click()\", bttn)\n",
    "            time.sleep(2)\n",
    "            \n",
    "        next_bttn = b.find_element(By.XPATH, '//*[@class=\"paginate_button next\"]')\n",
    "        b.execute_script(\"arguments[0].click()\",next_bttn)\n",
    "        time.sleep(1)\n",
    "    except Exception as e:\n",
    "        print(e)\n",
    "        break"
   ]
  },
  {
   "cell_type": "markdown",
   "id": "cda773f4",
   "metadata": {},
   "source": [
    "The \"Pdf_Files\" folder was populated with 689 files.  \n",
    "Along with the bulletins that I need for analysis, other types of files, such as decrees, guidelines, and resolutions, were downloaded."
   ]
  }
 ],
 "metadata": {
  "kernelspec": {
   "display_name": "Python 3 (ipykernel)",
   "language": "python",
   "name": "python3"
  },
  "language_info": {
   "codemirror_mode": {
    "name": "ipython",
    "version": 3
   },
   "file_extension": ".py",
   "mimetype": "text/x-python",
   "name": "python",
   "nbconvert_exporter": "python",
   "pygments_lexer": "ipython3",
   "version": "3.8.5"
  }
 },
 "nbformat": 4,
 "nbformat_minor": 5
}
